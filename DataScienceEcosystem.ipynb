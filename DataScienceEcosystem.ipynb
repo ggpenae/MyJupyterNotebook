{
 "cells": [
  {
   "cell_type": "markdown",
   "id": "a07aacba-1818-4a99-9960-106498b78230",
   "metadata": {},
   "source": [
    "# Data Science Tools and Ecosystem"
   ]
  },
  {
   "cell_type": "markdown",
   "id": "7bd56d1a-05fc-442d-9bbc-1387779a7b8c",
   "metadata": {},
   "source": [
    "En este cuaderno, se resumen las herramientas y ecosistemas de ciencia de datos."
   ]
  },
  {
   "cell_type": "markdown",
   "id": "a97934e5-f299-467e-95dc-1cbc07cdbea7",
   "metadata": {},
   "source": [
    "Algunos de los lenguajes populares que utilizan los científicos de datos son:\n",
    "\n",
    "1. Python\n",
    "2. R\n",
    "3. SQL\n",
    "4. Julia\n",
    "5. Java"
   ]
  },
  {
   "cell_type": "markdown",
   "id": "50528aa6-99f9-4d84-9651-2de4201fe9a5",
   "metadata": {},
   "source": [
    "Algunas de las bibliotecas comúnmente utilizadas por los científicos de datos incluyen:\n",
    "\n",
    "1. Pandas\n",
    "2. NumPy\n",
    "3. Matplotlib\n",
    "4. Scikit-learn\n",
    "5. TensorFlow"
   ]
  },
  {
   "cell_type": "markdown",
   "id": "27642504-0336-4746-bb81-91aaed3a4929",
   "metadata": {},
   "source": [
    "| Herramientas de Ciencia de Datos     |\n",
    "|--------------------------------------|\n",
    "| Jupyter Notebook                     |\n",
    "| RStudio                               |\n",
    "| Apache Spark                          |"
   ]
  },
  {
   "cell_type": "markdown",
   "id": "b0f98267-e584-405b-aa22-0436e9983d9a",
   "metadata": {},
   "source": [
    "### A continuación se presentan algunos ejemplos de evaluación de expresiones aritméticas en Python.\n"
   ]
  },
  {
   "cell_type": "code",
   "execution_count": 2,
   "id": "2848398b-89b2-4f78-9a35-6e08b1edeb98",
   "metadata": {},
   "outputs": [
    {
     "data": {
      "text/plain": [
       "17"
      ]
     },
     "execution_count": 2,
     "metadata": {},
     "output_type": "execute_result"
    }
   ],
   "source": [
    "# Esta es una expresión aritmética simple para multiplicar y luego sumar enteros\n",
    "(3 * 4) + 5\n"
   ]
  },
  {
   "cell_type": "code",
   "execution_count": 3,
   "id": "6db61fda-9d3f-45b2-9e9e-49140ffbd407",
   "metadata": {},
   "outputs": [
    {
     "data": {
      "text/plain": [
       "3.3333333333333335"
      ]
     },
     "execution_count": 3,
     "metadata": {},
     "output_type": "execute_result"
    }
   ],
   "source": [
    "# Esto convertirá 200 minutos a horas dividiendo por 60\n",
    "200 / 60\n"
   ]
  },
  {
   "cell_type": "markdown",
   "id": "76be8dfb-7942-4a45-b455-e27ef5c120da",
   "metadata": {},
   "source": [
    "**Objetivos:**\n",
    "\n",
    "- Listar lenguajes populares para Ciencia de Datos\n",
    "- Describir algunas bibliotecas comunes utilizadas en Ciencia de Datos\n",
    "- Mostrar herramientas de desarrollo de código abierto para Ciencia de Datos\n",
    "- Demostrar ejemplos de evaluación de expresiones aritméticas en Python\n",
    "- Explicar cómo convertir unidades de tiempo, como minutos a horas\n"
   ]
  },
  {
   "cell_type": "markdown",
   "id": "a0dfb63b-512d-4f90-abb6-773f5c6ad04b",
   "metadata": {},
   "source": [
    "## Autor\n",
    "\n",
    "Giuliana Giuliano\n"
   ]
  },
  {
   "cell_type": "code",
   "execution_count": null,
   "id": "dd0e34a6-c2d6-4d00-8723-88b92946a36a",
   "metadata": {},
   "outputs": [],
   "source": []
  }
 ],
 "metadata": {
  "kernelspec": {
   "display_name": "Python 3 (ipykernel)",
   "language": "python",
   "name": "python3"
  },
  "language_info": {
   "codemirror_mode": {
    "name": "ipython",
    "version": 3
   },
   "file_extension": ".py",
   "mimetype": "text/x-python",
   "name": "python",
   "nbconvert_exporter": "python",
   "pygments_lexer": "ipython3",
   "version": "3.12.7"
  }
 },
 "nbformat": 4,
 "nbformat_minor": 5
}
